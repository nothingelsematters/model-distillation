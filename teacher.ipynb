{
 "cells": [
  {
   "cell_type": "markdown",
   "id": "flush-indian",
   "metadata": {},
   "source": [
    "# Teacher Training"
   ]
  },
  {
   "cell_type": "code",
   "execution_count": 1,
   "id": "copyrighted-bunny",
   "metadata": {
    "tags": []
   },
   "outputs": [
    {
     "name": "stdout",
     "output_type": "stream",
     "text": [
      "Loaded data: 50000 train and 10000 test examples\n",
      "Saving file models/teacher.pt, test_accuracy (0.49880573248407645) > best_test_accuracy(0.0)\n",
      "00, 01, Saving file models/teacher.pt, test_accuracy (0.6412221337579618) > best_test_accuracy(0.49880573248407645)\n",
      "02, 03, Saving file models/teacher.pt, test_accuracy (0.7366640127388535) > best_test_accuracy(0.6412221337579618)\n",
      "04, Saving file models/teacher.pt, test_accuracy (0.7391520700636943) > best_test_accuracy(0.7366640127388535)\n",
      "05, 06, 07, Saving file models/teacher.pt, test_accuracy (0.7806528662420382) > best_test_accuracy(0.7391520700636943)\n",
      "08, Saving file models/teacher.pt, test_accuracy (0.8008558917197452) > best_test_accuracy(0.7806528662420382)\n",
      "09: train: loss 0.547, acc 80.93%, test: loss 36.522, acc 80.09%, best test acc: 80.09%\n",
      "10, 11, Saving file models/teacher.pt, test_accuracy (0.8187699044585988) > best_test_accuracy(0.8008558917197452)\n",
      "12, 13, 14, 15, 16, Saving file models/teacher.pt, test_accuracy (0.8252388535031847) > best_test_accuracy(0.8187699044585988)\n",
      "17, 18, Saving file models/teacher.pt, test_accuracy (0.8401671974522293) > best_test_accuracy(0.8252388535031847)\n",
      "19: train: loss 0.384, acc 86.59%, test: loss 29.024, acc 84.02%, best test acc: 84.02%\n",
      "20, Saving file models/teacher.pt, test_accuracy (0.8469347133757962) > best_test_accuracy(0.8401671974522293)\n",
      "21, 22, 23, 24, 25, Saving file models/teacher.pt, test_accuracy (0.8611664012738853) > best_test_accuracy(0.8469347133757962)\n",
      "26, 27, 28, 29: train: loss 0.288, acc 89.77%, test: loss 30.850, acc 84.38%, best test acc: 86.12%\n",
      "30, Saving file models/teacher.pt, test_accuracy (0.8720143312101911) > best_test_accuracy(0.8611664012738853)\n",
      "31, 32, 33, 34, 35, 36, 37, 38, 39: train: loss 0.224, acc 92.13%, test: loss 25.461, acc 87.12%, best test acc: 87.20%\n",
      "40, 41, 42, 43, Saving file models/teacher.pt, test_accuracy (0.8742038216560509) > best_test_accuracy(0.8720143312101911)\n",
      "44, 45, 46, 47, 48, 49: train: loss 0.178, acc 93.69%, test: loss 58.587, acc 76.98%, best test acc: 87.42%\n"
     ]
    }
   ],
   "source": [
    "from common import train\n",
    "from teacher import CNN_Teacher\n",
    "\n",
    "teacher_model = CNN_Teacher()\n",
    "train(teacher_model, 'teacher')"
   ]
  }
 ],
 "metadata": {
  "kernelspec": {
   "display_name": "Python 3",
   "language": "python",
   "name": "python3"
  },
  "language_info": {
   "codemirror_mode": {
    "name": "ipython",
    "version": 3
   },
   "file_extension": ".py",
   "mimetype": "text/x-python",
   "name": "python",
   "nbconvert_exporter": "python",
   "pygments_lexer": "ipython3",
   "version": "3.9.7"
  }
 },
 "nbformat": 4,
 "nbformat_minor": 5
}
