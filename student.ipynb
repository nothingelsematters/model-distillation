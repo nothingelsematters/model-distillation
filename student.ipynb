{
 "cells": [
  {
   "cell_type": "markdown",
   "metadata": {},
   "source": [
    "# Student Training"
   ]
  },
  {
   "cell_type": "code",
   "execution_count": 1,
   "metadata": {
    "colab": {},
    "colab_type": "code",
    "id": "CHadwpvmREvE"
   },
   "outputs": [
    {
     "name": "stdout",
     "output_type": "stream",
     "text": [
      "Loaded data: 50000 train and 10000 test examples\n",
      "Saving file models/student.pt, test_accuracy (0.5199044585987261) > best_test_accuracy(0.0)\n",
      "00, Saving file models/student.pt, test_accuracy (0.5840963375796179) > best_test_accuracy(0.5199044585987261)\n",
      "01, 02, 03, Saving file models/student.pt, test_accuracy (0.5916600318471338) > best_test_accuracy(0.5840963375796179)\n",
      "04, Saving file models/student.pt, test_accuracy (0.6579418789808917) > best_test_accuracy(0.5916600318471338)\n",
      "05, 06, Saving file models/student.pt, test_accuracy (0.6624203821656051) > best_test_accuracy(0.6579418789808917)\n",
      "07, Saving file models/student.pt, test_accuracy (0.6891918789808917) > best_test_accuracy(0.6624203821656051)\n",
      "08, 09: train: loss 0.893, acc 68.77%, test: loss 60.097, acc 68.17%, best test acc: 68.92%\n",
      "Saving file models/student.pt, test_accuracy (0.7159633757961783) > best_test_accuracy(0.6891918789808917)\n",
      "10, 11, 12, Saving file models/student.pt, test_accuracy (0.7309912420382165) > best_test_accuracy(0.7159633757961783)\n",
      "13, 14, 15, 16, Saving file models/student.pt, test_accuracy (0.7422372611464968) > best_test_accuracy(0.7309912420382165)\n",
      "17, 18, 19: train: loss 0.741, acc 74.33%, test: loss 53.007, acc 72.19%, best test acc: 74.22%\n",
      "20, 21, 22, Saving file models/student.pt, test_accuracy (0.7452229299363057) > best_test_accuracy(0.7422372611464968)\n",
      "23, Saving file models/student.pt, test_accuracy (0.7717953821656051) > best_test_accuracy(0.7452229299363057)\n",
      "24, 25, 26, 27, Saving file models/student.pt, test_accuracy (0.7740843949044586) > best_test_accuracy(0.7717953821656051)\n",
      "28, 29: train: loss 0.662, acc 77.08%, test: loss 44.051, acc 76.44%, best test acc: 77.41%\n",
      "30, Saving file models/student.pt, test_accuracy (0.7882165605095541) > best_test_accuracy(0.7740843949044586)\n",
      "31, 32, 33, 34, Saving file models/student.pt, test_accuracy (0.7959792993630573) > best_test_accuracy(0.7882165605095541)\n",
      "35, 36, 37, 38, 39: train: loss 0.610, acc 78.94%, test: loss 45.093, acc 75.43%, best test acc: 79.60%\n",
      "40, 41, 42, 43, 44, 45, 46, 47, Saving file models/student.pt, test_accuracy (0.8056329617834395) > best_test_accuracy(0.7959792993630573)\n",
      "48, 49: train: loss 0.570, acc 80.20%, test: loss 40.409, acc 78.93%, best test acc: 80.56%\n"
     ]
    }
   ],
   "source": [
    "from common import train\n",
    "from student import CNN_Student\n",
    "\n",
    "student_model = CNN_Student()\n",
    "train(student_model, 'student')"
   ]
  }
 ],
 "metadata": {
  "accelerator": "GPU",
  "colab": {
   "collapsed_sections": [],
   "machine_shape": "hm",
   "name": "1 - Multilayer Perceptron.ipynb",
   "provenance": []
  },
  "kernelspec": {
   "display_name": "Python 3",
   "language": "python",
   "name": "python3"
  },
  "language_info": {
   "codemirror_mode": {
    "name": "ipython",
    "version": 3
   },
   "file_extension": ".py",
   "mimetype": "text/x-python",
   "name": "python",
   "nbconvert_exporter": "python",
   "pygments_lexer": "ipython3",
   "version": "3.9.7"
  }
 },
 "nbformat": 4,
 "nbformat_minor": 4
}
